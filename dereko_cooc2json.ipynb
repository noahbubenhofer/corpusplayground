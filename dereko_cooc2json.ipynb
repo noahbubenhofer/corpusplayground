{
 "metadata": {
  "language_info": {
   "codemirror_mode": {
    "name": "ipython",
    "version": 3
   },
   "file_extension": ".py",
   "mimetype": "text/x-python",
   "name": "python",
   "nbconvert_exporter": "python",
   "pygments_lexer": "ipython3",
   "version": "3.7.2"
  },
  "orig_nbformat": 2,
  "kernelspec": {
   "name": "python37264bit3fd49fa2c9514b069bc4c31befd88188",
   "display_name": "Python 3.7.2 64-bit"
  },
  "metadata": {
   "interpreter": {
    "hash": "d77f9c2efd9d198f5ac66aec17768903fca3ca536b4f10687d4db2f8e1332467"
   }
  }
 },
 "nbformat": 4,
 "nbformat_minor": 2,
 "cells": [
  {
   "source": [
    "# Transformer for DeReKo cooccurrence profiles"
   ],
   "cell_type": "markdown",
   "metadata": {}
  },
  {
   "cell_type": "code",
   "execution_count": 13,
   "metadata": {
    "tags": [
     "outputPrepend"
    ]
   },
   "outputs": [
    {
     "output_type": "stream",
     "name": "stdout",
     "text": [
      "', 'Der', 'Rita', 'Hauptamtsleiterin', 'Bürgermeisterin', 'stellvertretende', 'Amtsleiterin', 'Wahlleiterin', 'Souffleuse', 'Ohne', 'abnehmen', 'weiße', 'Biedermanns', 'Eine', 'gerissen', 'Mask', 'The', 'of', 'aufsetzt', 'Kopf', 'versteckt', 'Sehschlitzen', 'Box-Weltmeister', 'Schulz', 'Annas', 'Oper', 'Heftis', 'Philip', 'Novelle', 'Sulzer', 'Hefti', 'Auftragsoper', 'Lohengrin', 'verbarg', 'Schutzanzug', 'ihre', 'Goldene', 'Theaterpreis', 'Requisiten', 'Völkerball-Musiker', 'nachgebildeten', 'Outfits', 'mühevoll', 'Vorsprechen']\n['Henry', 'eine', 'hinter', 'Gesicht', 'eisernen', 'einer', 'Blau', 'Operette', 'Raymonds', 'Fred', 'Potpourri', '', 'Melodien', 'Raymond', 'Tragen', 'Zorro', 'Banderas', 'Antonio', 'sw', 'Die', 'Mann', 'getragen', 'Hinter', 'Kostüme', 'schwarze', 'unter', 'verbirgt', 'Frosch', 'Requisite', 'Boxer', 'aufzusetzen', 'Bühnenbild', 'Rocchigiani', 'Graciano', 'Nase', 'Mund', 'Todes', 'roten', 'Poes', 'Allan', 'Edgar', 'Roten', 'Poe', 'trage', 'Badener', 'Tournée', 'Theatergruppe', 'reißen', 'Handschuhe', 'schwarzen', 'aufgesetzt', 'Frisuren', 'Flossen', 'ABC-Ausrüstung', 'Hill', 'Virgil', 'schwarzer', 'Michalczewski', 'Dariusz', 'Der', 'Rita', 'Hauptamtsleiterin', 'Bürgermeisterin', 'stellvertretende', 'Amtsleiterin', 'Wahlleiterin', 'Souffleuse', 'Ohne', 'abnehmen', 'weiße', 'Biedermanns', 'Eine', 'gerissen', 'Mask', 'The', 'of', 'aufsetzt', 'Kopf', 'versteckt', 'Sehschlitzen', 'Box-Weltmeister', 'Schulz', 'Annas', 'Oper', 'Heftis', 'Philip', 'Novelle', 'Sulzer', 'Hefti', 'Auftragsoper', 'Lohengrin', 'verbarg', 'Schutzanzug', 'ihre', 'Goldene', 'Theaterpreis', 'Requisiten', 'Völkerball-Musiker', 'nachgebildeten', 'Outfits', 'mühevoll', 'Vorsprechen']\n['Henry', 'eine', 'hinter', 'Gesicht', 'eisernen', 'einer', 'Blau', 'Operette', 'Raymonds', 'Fred', 'Potpourri', '', 'Melodien', 'Raymond', 'Tragen', 'Zorro', 'Banderas', 'Antonio', 'sw', 'Die', 'Mann', 'getragen', 'Hinter', 'Kostüme', 'schwarze', 'unter', 'verbirgt', 'Frosch', 'Requisite', 'Boxer', 'aufzusetzen', 'Bühnenbild', 'Rocchigiani', 'Graciano', 'Nase', 'Mund', 'Todes', 'roten', 'Poes', 'Allan', 'Edgar', 'Roten', 'Poe', 'trage', 'Badener', 'Tournée', 'Theatergruppe', 'reißen', 'Handschuhe', 'schwarzen', 'aufgesetzt', 'Frisuren', 'Flossen', 'ABC-Ausrüstung', 'Hill', 'Virgil', 'schwarzer', 'Michalczewski', 'Dariusz', 'Der', 'Rita', 'Hauptamtsleiterin', 'Bürgermeisterin', 'stellvertretende', 'Amtsleiterin', 'Wahlleiterin', 'Souffleuse', 'Ohne', 'abnehmen', 'weiße', 'Biedermanns', 'Eine', 'gerissen', 'Mask', 'The', 'of', 'aufsetzt', 'Kopf', 'versteckt', 'Sehschlitzen', 'Box-Weltmeister', 'Schulz', 'Annas', 'Oper', 'Heftis', 'Philip', 'Novelle', 'Sulzer', 'Hefti', 'Auftragsoper', 'Lohengrin', 'verbarg', 'Schutzanzug', 'ihre', 'Goldene', 'Theaterpreis', 'Requisiten', 'Völkerball-Musiker', 'nachgebildeten', 'Outfits', 'mühevoll', 'Vorsprechen']\n['Henry', 'eine', 'hinter', 'Gesicht', 'eisernen', 'einer', 'Blau', 'Operette', 'Raymonds', 'Fred', 'Potpourri', '', 'Melodien', 'Raymond', 'Tragen', 'Zorro', 'Banderas', 'Antonio', 'sw', 'Die', 'Mann', 'getragen', 'Hinter', 'Kostüme', 'schwarze', 'unter', 'verbirgt', 'Frosch', 'Requisite', 'Boxer', 'aufzusetzen', 'Bühnenbild', 'Rocchigiani', 'Graciano', 'Nase', 'Mund', 'Todes', 'roten', 'Poes', 'Allan', 'Edgar', 'Roten', 'Poe', 'trage', 'Badener', 'Tournée', 'Theatergruppe', 'reißen', 'Handschuhe', 'schwarzen', 'aufgesetzt', 'Frisuren', 'Flossen', 'ABC-Ausrüstung', 'Hill', 'Virgil', 'schwarzer', 'Michalczewski', 'Dariusz', 'Der', 'Rita', 'Hauptamtsleiterin', 'Bürgermeisterin', 'stellvertretende', 'Amtsleiterin', 'Wahlleiterin', 'Souffleuse', 'Ohne', 'abnehmen', 'weiße', 'Biedermanns', 'Eine', 'gerissen', 'Mask', 'The', 'of', 'aufsetzt', 'Kopf', 'versteckt', 'Sehschlitzen', 'Box-Weltmeister', 'Schulz', 'Annas', 'Oper', 'Heftis', 'Philip', 'Novelle', 'Sulzer', 'Hefti', 'Auftragsoper', 'Lohengrin', 'verbarg', 'Schutzanzug', 'ihre', 'Goldene', 'Theaterpreis', 'Requisiten', 'Völkerball-Musiker', 'nachgebildeten', 'Outfits', 'mühevoll', 'Vorsprechen', 'Mit']\n['Henry', 'eine', 'hinter', 'Gesicht', 'eisernen', 'einer', 'Blau', 'Operette', 'Raymonds', 'Fred', 'Potpourri', '', 'Melodien', 'Raymond', 'Tragen', 'Zorro', 'Banderas', 'Antonio', 'sw', 'Die', 'Mann', 'getragen', 'Hinter', 'Kostüme', 'schwarze', 'unter', 'verbirgt', 'Frosch', 'Requisite', 'Boxer', 'aufzusetzen', 'Bühnenbild', 'Rocchigiani', 'Graciano', 'Nase', 'Mund', 'Todes', 'roten', 'Poes', 'Allan', 'Edgar', 'Roten', 'Poe', 'trage', 'Badener', 'Tournée', 'Theatergruppe', 'reißen', 'Handschuhe', 'schwarzen', 'aufgesetzt', 'Frisuren', 'Flossen', 'ABC-Ausrüstung', 'Hill', 'Virgil', 'schwarzer', 'Michalczewski', 'Dariusz', 'Der', 'Rita', 'Hauptamtsleiterin', 'Bürgermeisterin', 'stellvertretende', 'Amtsleiterin', 'Wahlleiterin', 'Souffleuse', 'Ohne', 'abnehmen', 'weiße', 'Biedermanns', 'Eine', 'gerissen', 'Mask', 'The', 'of', 'aufsetzt', 'Kopf', 'versteckt', 'Sehschlitzen', 'Box-Weltmeister', 'Schulz', 'Annas', 'Oper', 'Heftis', 'Philip', 'Novelle', 'Sulzer', 'Hefti', 'Auftragsoper', 'Lohengrin', 'verbarg', 'Schutzanzug', 'ihre', 'Goldene', 'Theaterpreis', 'Requisiten', 'Völkerball-Musiker', 'nachgebildeten', 'Outfits', 'mühevoll', 'Vorsprechen', 'Mit']\n['Henry', 'eine', 'hinter', 'Gesicht', 'eisernen', 'einer', 'Blau', 'Operette', 'Raymonds', 'Fred', 'Potpourri', '', 'Melodien', 'Raymond', 'Tragen', 'Zorro', 'Banderas', 'Antonio', 'sw', 'Die', 'Mann', 'getragen', 'Hinter', 'Kostüme', 'schwarze', 'unter', 'verbirgt', 'Frosch', 'Requisite', 'Boxer', 'aufzusetzen', 'Bühnenbild', 'Rocchigiani', 'Graciano', 'Nase', 'Mund', 'Todes', 'roten', 'Poes', 'Allan', 'Edgar', 'Roten', 'Poe', 'trage', 'Badener', 'Tournée', 'Theatergruppe', 'reißen', 'Handschuhe', 'schwarzen', 'aufgesetzt', 'Frisuren', 'Flossen', 'ABC-Ausrüstung', 'Hill', 'Virgil', 'schwarzer', 'Michalczewski', 'Dariusz', 'Der', 'Rita', 'Hauptamtsleiterin', 'Bürgermeisterin', 'stellvertretende', 'Amtsleiterin', 'Wahlleiterin', 'Souffleuse', 'Ohne', 'abnehmen', 'weiße', 'Biedermanns', 'Eine', 'gerissen', 'Mask', 'The', 'of', 'aufsetzt', 'Kopf', 'versteckt', 'Sehschlitzen', 'Box-Weltmeister', 'Schulz', 'Annas', 'Oper', 'Heftis', 'Philip', 'Novelle', 'Sulzer', 'Hefti', 'Auftragsoper', 'Lohengrin', 'verbarg', 'Schutzanzug', 'ihre', 'Goldene', 'Theaterpreis', 'Requisiten', 'Völkerball-Musiker', 'nachgebildeten', 'Outfits', 'mühevoll', 'Vorsprechen', 'Mit', 'Boxweltmeister']\n['Henry', 'eine', 'hinter', 'Gesicht', 'eisernen', 'einer', 'Blau', 'Operette', 'Raymonds', 'Fred', 'Potpourri', '', 'Melodien', 'Raymond', 'Tragen', 'Zorro', 'Banderas', 'Antonio', 'sw', 'Die', 'Mann', 'getragen', 'Hinter', 'Kostüme', 'schwarze', 'unter', 'verbirgt', 'Frosch', 'Requisite', 'Boxer', 'aufzusetzen', 'Bühnenbild', 'Rocchigiani', 'Graciano', 'Nase', 'Mund', 'Todes', 'roten', 'Poes', 'Allan', 'Edgar', 'Roten', 'Poe', 'trage', 'Badener', 'Tournée', 'Theatergruppe', 'reißen', 'Handschuhe', 'schwarzen', 'aufgesetzt', 'Frisuren', 'Flossen', 'ABC-Ausrüstung', 'Hill', 'Virgil', 'schwarzer', 'Michalczewski', 'Dariusz', 'Der', 'Rita', 'Hauptamtsleiterin', 'Bürgermeisterin', 'stellvertretende', 'Amtsleiterin', 'Wahlleiterin', 'Souffleuse', 'Ohne', 'abnehmen', 'weiße', 'Biedermanns', 'Eine', 'gerissen', 'Mask', 'The', 'of', 'aufsetzt', 'Kopf', 'versteckt', 'Sehschlitzen', 'Box-Weltmeister', 'Schulz', 'Annas', 'Oper', 'Heftis', 'Philip', 'Novelle', 'Sulzer', 'Hefti', 'Auftragsoper', 'Lohengrin', 'verbarg', 'Schutzanzug', 'ihre', 'Goldene', 'Theaterpreis', 'Requisiten', 'Völkerball-Musiker', 'nachgebildeten', 'Outfits', 'mühevoll', 'Vorsprechen', 'Mit', 'Boxweltmeister']\n['Henry', 'eine', 'hinter', 'Gesicht', 'eisernen', 'einer', 'Blau', 'Operette', 'Raymonds', 'Fred', 'Potpourri', '', 'Melodien', 'Raymond', 'Tragen', 'Zorro', 'Banderas', 'Antonio', 'sw', 'Die', 'Mann', 'getragen', 'Hinter', 'Kostüme', 'schwarze', 'unter', 'verbirgt', 'Frosch', 'Requisite', 'Boxer', 'aufzusetzen', 'Bühnenbild', 'Rocchigiani', 'Graciano', 'Nase', 'Mund', 'Todes', 'roten', 'Poes', 'Allan', 'Edgar', 'Roten', 'Poe', 'trage', 'Badener', 'Tournée', 'Theatergruppe', 'reißen', 'Handschuhe', 'schwarzen', 'aufgesetzt', 'Frisuren', 'Flossen', 'ABC-Ausrüstung', 'Hill', 'Virgil', 'schwarzer', 'Michalczewski', 'Dariusz', 'Der', 'Rita', 'Hauptamtsleiterin', 'Bürgermeisterin', 'stellvertretende', 'Amtsleiterin', 'Wahlleiterin', 'Souffleuse', 'Ohne', 'abnehmen', 'weiße', 'Biedermanns', 'Eine', 'gerissen', 'Mask', 'The', 'of', 'aufsetzt', 'Kopf', 'versteckt', 'Sehschlitzen', 'Box-Weltmeister', 'Schulz', 'Annas', 'Oper', 'Heftis', 'Philip', 'Novelle', 'Sulzer', 'Hefti', 'Auftragsoper', 'Lohengrin', 'verbarg', 'Schutzanzug', 'ihre', 'Goldene', 'Theaterpreis', 'Requisiten', 'Völkerball-Musiker', 'nachgebildeten', 'Outfits', 'mühevoll', 'Vorsprechen', 'Mit', 'Boxweltmeister', 'Pierrot', 'Melancholie', 'Ausstellung', 'Barnes']\n['Henry', 'eine', 'hinter', 'Gesicht', 'eisernen', 'einer', 'Blau', 'Operette', 'Raymonds', 'Fred', 'Potpourri', '', 'Melodien', 'Raymond', 'Tragen', 'Zorro', 'Banderas', 'Antonio', 'sw', 'Die', 'Mann', 'getragen', 'Hinter', 'Kostüme', 'schwarze', 'unter', 'verbirgt', 'Frosch', 'Requisite', 'Boxer', 'aufzusetzen', 'Bühnenbild', 'Rocchigiani', 'Graciano', 'Nase', 'Mund', 'Todes', 'roten', 'Poes', 'Allan', 'Edgar', 'Roten', 'Poe', 'trage', 'Badener', 'Tournée', 'Theatergruppe', 'reißen', 'Handschuhe', 'schwarzen', 'aufgesetzt', 'Frisuren', 'Flossen', 'ABC-Ausrüstung', 'Hill', 'Virgil', 'schwarzer', 'Michalczewski', 'Dariusz', 'Der', 'Rita', 'Hauptamtsleiterin', 'Bürgermeisterin', 'stellvertretende', 'Amtsleiterin', 'Wahlleiterin', 'Souffleuse', 'Ohne', 'abnehmen', 'weiße', 'Biedermanns', 'Eine', 'gerissen', 'Mask', 'The', 'of', 'aufsetzt', 'Kopf', 'versteckt', 'Sehschlitzen', 'Box-Weltmeister', 'Schulz', 'Annas', 'Oper', 'Heftis', 'Philip', 'Novelle', 'Sulzer', 'Hefti', 'Auftragsoper', 'Lohengrin', 'verbarg', 'Schutzanzug', 'ihre', 'Goldene', 'Theaterpreis', 'Requisiten', 'Völkerball-Musiker', 'nachgebildeten', 'Outfits', 'mühevoll', 'Vorsprechen', 'Mit', 'Boxweltmeister', 'Pierrot', 'Melancholie', 'Ausstellung', 'Barnes']\n['Henry', 'eine', 'hinter', 'Gesicht', 'eisernen', 'einer', 'Blau', 'Operette', 'Raymonds', 'Fred', 'Potpourri', '', 'Melodien', 'Raymond', 'Tragen', 'Zorro', 'Banderas', 'Antonio', 'sw', 'Die', 'Mann', 'getragen', 'Hinter', 'Kostüme', 'schwarze', 'unter', 'verbirgt', 'Frosch', 'Requisite', 'Boxer', 'aufzusetzen', 'Bühnenbild', 'Rocchigiani', 'Graciano', 'Nase', 'Mund', 'Todes', 'roten', 'Poes', 'Allan', 'Edgar', 'Roten', 'Poe', 'trage', 'Badener', 'Tournée', 'Theatergruppe', 'reißen', 'Handschuhe', 'schwarzen', 'aufgesetzt', 'Frisuren', 'Flossen', 'ABC-Ausrüstung', 'Hill', 'Virgil', 'schwarzer', 'Michalczewski', 'Dariusz', 'Der', 'Rita', 'Hauptamtsleiterin', 'Bürgermeisterin', 'stellvertretende', 'Amtsleiterin', 'Wahlleiterin', 'Souffleuse', 'Ohne', 'abnehmen', 'weiße', 'Biedermanns', 'Eine', 'gerissen', 'Mask', 'The', 'of', 'aufsetzt', 'Kopf', 'versteckt', 'Sehschlitzen', 'Box-Weltmeister', 'Schulz', 'Annas', 'Oper', 'Heftis', 'Philip', 'Novelle', 'Sulzer', 'Hefti', 'Auftragsoper', 'Lohengrin', 'verbarg', 'Schutzanzug', 'ihre', 'Goldene', 'Theaterpreis', 'Requisiten', 'Völkerball-Musiker', 'nachgebildeten', 'Outfits', 'mühevoll', 'Vorsprechen', 'Mit', 'Boxweltmeister', 'Pierrot', 'Melancholie', 'Ausstellung', 'Barnes']\n['Henry', 'eine', 'hinter', 'Gesicht', 'eisernen', 'einer', 'Blau', 'Operette', 'Raymonds', 'Fred', 'Potpourri', '', 'Melodien', 'Raymond', 'Tragen', 'Zorro', 'Banderas', 'Antonio', 'sw', 'Die', 'Mann', 'getragen', 'Hinter', 'Kostüme', 'schwarze', 'unter', 'verbirgt', 'Frosch', 'Requisite', 'Boxer', 'aufzusetzen', 'Bühnenbild', 'Rocchigiani', 'Graciano', 'Nase', 'Mund', 'Todes', 'roten', 'Poes', 'Allan', 'Edgar', 'Roten', 'Poe', 'trage', 'Badener', 'Tournée', 'Theatergruppe', 'reißen', 'Handschuhe', 'schwarzen', 'aufgesetzt', 'Frisuren', 'Flossen', 'ABC-Ausrüstung', 'Hill', 'Virgil', 'schwarzer', 'Michalczewski', 'Dariusz', 'Der', 'Rita', 'Hauptamtsleiterin', 'Bürgermeisterin', 'stellvertretende', 'Amtsleiterin', 'Wahlleiterin', 'Souffleuse', 'Ohne', 'abnehmen', 'weiße', 'Biedermanns', 'Eine', 'gerissen', 'Mask', 'The', 'of', 'aufsetzt', 'Kopf', 'versteckt', 'Sehschlitzen', 'Box-Weltmeister', 'Schulz', 'Annas', 'Oper', 'Heftis', 'Philip', 'Novelle', 'Sulzer', 'Hefti', 'Auftragsoper', 'Lohengrin', 'verbarg', 'Schutzanzug', 'ihre', 'Goldene', 'Theaterpreis', 'Requisiten', 'Völkerball-Musiker', 'nachgebildeten', 'Outfits', 'mühevoll', 'Vorsprechen', 'Mit', 'Boxweltmeister', 'Pierrot', 'Melancholie', 'Ausstellung', 'Barnes']\n['Henry', 'eine', 'hinter', 'Gesicht', 'eisernen', 'einer', 'Blau', 'Operette', 'Raymonds', 'Fred', 'Potpourri', '', 'Melodien', 'Raymond', 'Tragen', 'Zorro', 'Banderas', 'Antonio', 'sw', 'Die', 'Mann', 'getragen', 'Hinter', 'Kostüme', 'schwarze', 'unter', 'verbirgt', 'Frosch', 'Requisite', 'Boxer', 'aufzusetzen', 'Bühnenbild', 'Rocchigiani', 'Graciano', 'Nase', 'Mund', 'Todes', 'roten', 'Poes', 'Allan', 'Edgar', 'Roten', 'Poe', 'trage', 'Badener', 'Tournée', 'Theatergruppe', 'reißen', 'Handschuhe', 'schwarzen', 'aufgesetzt', 'Frisuren', 'Flossen', 'ABC-Ausrüstung', 'Hill', 'Virgil', 'schwarzer', 'Michalczewski', 'Dariusz', 'Der', 'Rita', 'Hauptamtsleiterin', 'Bürgermeisterin', 'stellvertretende', 'Amtsleiterin', 'Wahlleiterin', 'Souffleuse', 'Ohne', 'abnehmen', 'weiße', 'Biedermanns', 'Eine', 'gerissen', 'Mask', 'The', 'of', 'aufsetzt', 'Kopf', 'versteckt', 'Sehschlitzen', 'Box-Weltmeister', 'Schulz', 'Annas', 'Oper', 'Heftis', 'Philip', 'Novelle', 'Sulzer', 'Hefti', 'Auftragsoper', 'Lohengrin', 'verbarg', 'Schutzanzug', 'ihre', 'Goldene', 'Theaterpreis', 'Requisiten', 'Völkerball-Musiker', 'nachgebildeten', 'Outfits', 'mühevoll', 'Vorsprechen', 'Mit', 'Boxweltmeister', 'Pierrot', 'Melancholie', 'Ausstellung', 'Barnes']\n['Henry', 'eine', 'hinter', 'Gesicht', 'eisernen', 'einer', 'Blau', 'Operette', 'Raymonds', 'Fred', 'Potpourri', '', 'Melodien', 'Raymond', 'Tragen', 'Zorro', 'Banderas', 'Antonio', 'sw', 'Die', 'Mann', 'getragen', 'Hinter', 'Kostüme', 'schwarze', 'unter', 'verbirgt', 'Frosch', 'Requisite', 'Boxer', 'aufzusetzen', 'Bühnenbild', 'Rocchigiani', 'Graciano', 'Nase', 'Mund', 'Todes', 'roten', 'Poes', 'Allan', 'Edgar', 'Roten', 'Poe', 'trage', 'Badener', 'Tournée', 'Theatergruppe', 'reißen', 'Handschuhe', 'schwarzen', 'aufgesetzt', 'Frisuren', 'Flossen', 'ABC-Ausrüstung', 'Hill', 'Virgil', 'schwarzer', 'Michalczewski', 'Dariusz', 'Der', 'Rita', 'Hauptamtsleiterin', 'Bürgermeisterin', 'stellvertretende', 'Amtsleiterin', 'Wahlleiterin', 'Souffleuse', 'Ohne', 'abnehmen', 'weiße', 'Biedermanns', 'Eine', 'gerissen', 'Mask', 'The', 'of', 'aufsetzt', 'Kopf', 'versteckt', 'Sehschlitzen', 'Box-Weltmeister', 'Schulz', 'Annas', 'Oper', 'Heftis', 'Philip', 'Novelle', 'Sulzer', 'Hefti', 'Auftragsoper', 'Lohengrin', 'verbarg', 'Schutzanzug', 'ihre', 'Goldene', 'Theaterpreis', 'Requisiten', 'Völkerball-Musiker', 'nachgebildeten', 'Outfits', 'mühevoll', 'Vorsprechen', 'Mit', 'Boxweltmeister', 'Pierrot', 'Melancholie', 'Ausstellung', 'Barnes']\n['Henry', 'eine', 'hinter', 'Gesicht', 'eisernen', 'einer', 'Blau', 'Operette', 'Raymonds', 'Fred', 'Potpourri', '', 'Melodien', 'Raymond', 'Tragen', 'Zorro', 'Banderas', 'Antonio', 'sw', 'Die', 'Mann', 'getragen', 'Hinter', 'Kostüme', 'schwarze', 'unter', 'verbirgt', 'Frosch', 'Requisite', 'Boxer', 'aufzusetzen', 'Bühnenbild', 'Rocchigiani', 'Graciano', 'Nase', 'Mund', 'Todes', 'roten', 'Poes', 'Allan', 'Edgar', 'Roten', 'Poe', 'trage', 'Badener', 'Tournée', 'Theatergruppe', 'reißen', 'Handschuhe', 'schwarzen', 'aufgesetzt', 'Frisuren', 'Flossen', 'ABC-Ausrüstung', 'Hill', 'Virgil', 'schwarzer', 'Michalczewski', 'Dariusz', 'Der', 'Rita', 'Hauptamtsleiterin', 'Bürgermeisterin', 'stellvertretende', 'Amtsleiterin', 'Wahlleiterin', 'Souffleuse', 'Ohne', 'abnehmen', 'weiße', 'Biedermanns', 'Eine', 'gerissen', 'Mask', 'The', 'of', 'aufsetzt', 'Kopf', 'versteckt', 'Sehschlitzen', 'Box-Weltmeister', 'Schulz', 'Annas', 'Oper', 'Heftis', 'Philip', 'Novelle', 'Sulzer', 'Hefti', 'Auftragsoper', 'Lohengrin', 'verbarg', 'Schutzanzug', 'ihre', 'Goldene', 'Theaterpreis', 'Requisiten', 'Völkerball-Musiker', 'nachgebildeten', 'Outfits', 'mühevoll', 'Vorsprechen', 'Mit', 'Boxweltmeister', 'Pierrot', 'Melancholie', 'Ausstellung', 'Barnes']\n['Henry', 'eine', 'hinter', 'Gesicht', 'eisernen', 'einer', 'Blau', 'Operette', 'Raymonds', 'Fred', 'Potpourri', '', 'Melodien', 'Raymond', 'Tragen', 'Zorro', 'Banderas', 'Antonio', 'sw', 'Die', 'Mann', 'getragen', 'Hinter', 'Kostüme', 'schwarze', 'unter', 'verbirgt', 'Frosch', 'Requisite', 'Boxer', 'aufzusetzen', 'Bühnenbild', 'Rocchigiani', 'Graciano', 'Nase', 'Mund', 'Todes', 'roten', 'Poes', 'Allan', 'Edgar', 'Roten', 'Poe', 'trage', 'Badener', 'Tournée', 'Theatergruppe', 'reißen', 'Handschuhe', 'schwarzen', 'aufgesetzt', 'Frisuren', 'Flossen', 'ABC-Ausrüstung', 'Hill', 'Virgil', 'schwarzer', 'Michalczewski', 'Dariusz', 'Der', 'Rita', 'Hauptamtsleiterin', 'Bürgermeisterin', 'stellvertretende', 'Amtsleiterin', 'Wahlleiterin', 'Souffleuse', 'Ohne', 'abnehmen', 'weiße', 'Biedermanns', 'Eine', 'gerissen', 'Mask', 'The', 'of', 'aufsetzt', 'Kopf', 'versteckt', 'Sehschlitzen', 'Box-Weltmeister', 'Schulz', 'Annas', 'Oper', 'Heftis', 'Philip', 'Novelle', 'Sulzer', 'Hefti', 'Auftragsoper', 'Lohengrin', 'verbarg', 'Schutzanzug', 'ihre', 'Goldene', 'Theaterpreis', 'Requisiten', 'Völkerball-Musiker', 'nachgebildeten', 'Outfits', 'mühevoll', 'Vorsprechen', 'Mit', 'Boxweltmeister', 'Pierrot', 'Melancholie', 'Ausstellung', 'Barnes']\n['Henry', 'eine', 'hinter', 'Gesicht', 'eisernen', 'einer', 'Blau', 'Operette', 'Raymonds', 'Fred', 'Potpourri', '', 'Melodien', 'Raymond', 'Tragen', 'Zorro', 'Banderas', 'Antonio', 'sw', 'Die', 'Mann', 'getragen', 'Hinter', 'Kostüme', 'schwarze', 'unter', 'verbirgt', 'Frosch', 'Requisite', 'Boxer', 'aufzusetzen', 'Bühnenbild', 'Rocchigiani', 'Graciano', 'Nase', 'Mund', 'Todes', 'roten', 'Poes', 'Allan', 'Edgar', 'Roten', 'Poe', 'trage', 'Badener', 'Tournée', 'Theatergruppe', 'reißen', 'Handschuhe', 'schwarzen', 'aufgesetzt', 'Frisuren', 'Flossen', 'ABC-Ausrüstung', 'Hill', 'Virgil', 'schwarzer', 'Michalczewski', 'Dariusz', 'Der', 'Rita', 'Hauptamtsleiterin', 'Bürgermeisterin', 'stellvertretende', 'Amtsleiterin', 'Wahlleiterin', 'Souffleuse', 'Ohne', 'abnehmen', 'weiße', 'Biedermanns', 'Eine', 'gerissen', 'Mask', 'The', 'of', 'aufsetzt', 'Kopf', 'versteckt', 'Sehschlitzen', 'Box-Weltmeister', 'Schulz', 'Annas', 'Oper', 'Heftis', 'Philip', 'Novelle', 'Sulzer', 'Hefti', 'Auftragsoper', 'Lohengrin', 'verbarg', 'Schutzanzug', 'ihre', 'Goldene', 'Theaterpreis', 'Requisiten', 'Völkerball-Musiker', 'nachgebildeten', 'Outfits', 'mühevoll', 'Vorsprechen', 'Mit', 'Boxweltmeister', 'Pierrot', 'Melancholie', 'Ausstellung', 'Barnes']\n['Henry', 'eine', 'hinter', 'Gesicht', 'eisernen', 'einer', 'Blau', 'Operette', 'Raymonds', 'Fred', 'Potpourri', '', 'Melodien', 'Raymond', 'Tragen', 'Zorro', 'Banderas', 'Antonio', 'sw', 'Die', 'Mann', 'getragen', 'Hinter', 'Kostüme', 'schwarze', 'unter', 'verbirgt', 'Frosch', 'Requisite', 'Boxer', 'aufzusetzen', 'Bühnenbild', 'Rocchigiani', 'Graciano', 'Nase', 'Mund', 'Todes', 'roten', 'Poes', 'Allan', 'Edgar', 'Roten', 'Poe', 'trage', 'Badener', 'Tournée', 'Theatergruppe', 'reißen', 'Handschuhe', 'schwarzen', 'aufgesetzt', 'Frisuren', 'Flossen', 'ABC-Ausrüstung', 'Hill', 'Virgil', 'schwarzer', 'Michalczewski', 'Dariusz', 'Der', 'Rita', 'Hauptamtsleiterin', 'Bürgermeisterin', 'stellvertretende', 'Amtsleiterin', 'Wahlleiterin', 'Souffleuse', 'Ohne', 'abnehmen', 'weiße', 'Biedermanns', 'Eine', 'gerissen', 'Mask', 'The', 'of', 'aufsetzt', 'Kopf', 'versteckt', 'Sehschlitzen', 'Box-Weltmeister', 'Schulz', 'Annas', 'Oper', 'Heftis', 'Philip', 'Novelle', 'Sulzer', 'Hefti', 'Auftragsoper', 'Lohengrin', 'verbarg', 'Schutzanzug', 'ihre', 'Goldene', 'Theaterpreis', 'Requisiten', 'Völkerball-Musiker', 'nachgebildeten', 'Outfits', 'mühevoll', 'Vorsprechen', 'Mit', 'Boxweltmeister', 'Pierrot', 'Melancholie', 'Ausstellung', 'Barnes']\n"
     ]
    }
   ],
   "source": [
    "import json\n",
    "\n",
    "class coocETL():\n",
    "\n",
    "    def __init__(self, datapath, outpath, root=None, minllr=1000, intype=\"index\", outformat=\"json\", indexllr=2, indexwords=7):\n",
    "        self.datapath = datapath\n",
    "        self.outpath = outpath\n",
    "        self.root = root\n",
    "        self.minllr = minllr\n",
    "        self.intype = intype\n",
    "        self.outformat = outformat\n",
    "        self.indexllr = indexllr\n",
    "        self.indexwords = indexwords\n",
    "\n",
    "    def extract(self):\n",
    "        datafile = open(self.datapath, encoding='utf-8', mode = \"r\")\n",
    "        columnindex = 0\n",
    "        self.parseddata = { \"nodes\": [], \"links\": [] }\n",
    "        self.nodes = []\n",
    "        self.nodesValues = {}\n",
    "        actualllr = \"\"\n",
    "        \n",
    "        index_words = self.indexwords\n",
    "        index_llr = self.indexllr\n",
    "        \n",
    "        for line in datafile:\n",
    "            if line == \"\\n\":\n",
    "                continue\n",
    "\n",
    "            line = line.replace(u\"\\xa0\", u\" \")\n",
    "            fields = line.split(\";\")\n",
    "            if \"Kookkurrenzen\" in fields:\n",
    "                print(\"Header gefunden: \", fields)\n",
    "                continue\n",
    "            \n",
    "            words = fields[index_words].split(\" \")\n",
    "            if words[0] not in self.nodes:\n",
    "                self.nodes.append(words[0])\n",
    "                self.nodesValues[words[0]] = fields[index_llr]\n",
    "            if self.root and self.root not in self.nodes:\n",
    "                self.nodes.append(self.root)\n",
    "                self.nodesValues[self.root] = fields[index_llr]\n",
    "            \n",
    "            if fields[index_llr] != \"\":\n",
    "                actualllr = fields[index_llr]\n",
    "                \n",
    "                if self.root:\n",
    "                    if self.intype == \"index\":\n",
    "                        self.parseddata[\"links\"].append({ \"source\": self.nodes.index(self.root), \"target\": nodes.index(words[0]), \"value\": fields[index_llr]})\n",
    "                    else:\n",
    "                        self.parseddata[\"links\"].append({ \"source\": self.root, \"target\": words[0], \"value\": fields[index_llr]})\n",
    "            \n",
    "            lastword = \"\"\n",
    "            \n",
    "            for word in words:\n",
    "                if word not in self.nodes:\n",
    "                    self.nodes.append(word)\n",
    "                    self.nodesValues[word] = actualllr\n",
    "                if lastword != \"\":\n",
    "                    if self.intype == \"index\":\n",
    "                        self.parseddata[\"links\"].append({ \"source\": self.nodes.index(lastword), \"target\": self.nodes.index(word), \"value\": actualllr})\n",
    "                    else:\n",
    "                        self.parseddata[\"links\"].append({ \"source\": lastword, \"target\": word, \"value\": actualllr})\n",
    "                lastword = word\n",
    "            \n",
    "            if int(actualllr) < int(self.minllr):\n",
    "                break\n",
    "\n",
    "    def transform(self):\n",
    "        for node in self.nodes:\n",
    "            if self.intype == \"index\":\n",
    "                self.parseddata[\"nodes\"].append({ \"id\": self.nodes.index(node), \"name\": node, \"group\": 0, \"value\": self.nodesValues[node] })\n",
    "            else:\n",
    "                self.parseddata[\"nodes\"].append({ \"id\": node, \"group\": 0, \"value\": self.nodesValues[node] })\n",
    "\n",
    "        self.parseddata[\"directed\"] = \"false\"\n",
    "        self.parseddata[\"multigraph\"] = \"false\"\n",
    "        self.parseddata[\"graph\"] = {}\n",
    "\n",
    "\t\n",
    "    def load(self):\n",
    "        if self.outformat == \"json\":\n",
    "            outfile = open(self.outpath + \".json\", \"w\")\n",
    "            outfile.write(json.dumps(self.parseddata))\n",
    "        else:\n",
    "            outfilelinks = open(self.outpath+\".links.tsv\", \"w\")\n",
    "            outfilelinks.write(\"source\\ttarget\\tweight\\n\")\n",
    "            for link in self.parseddata[\"links\"]:\n",
    "                outfilelinks.write(str(link[\"source\"]) + \"\\t\" + str(link[\"target\"]) + \"\\t\" + str(link[\"value\"]) + \"\\n\")\n",
    "            \n",
    "            outfilenodes = open(args.out+\".nodes.tsv\", \"w\")\n",
    "            if self.intype == \"index\":\n",
    "                outfilenodes.write(\"id\\tname\\tgroup\\tvalue\\n\")\n",
    "                for node in self.parseddata[\"nodes\"]:\n",
    "                    outfilenodes.write(str(self.nodes.index(node[\"name\"])) + \"\\t\" + str(node[\"name\"]) + \"\\t\" + str(node[\"group\"]) + \"\\t\" + str(node[\"value\"]) + \"\\n\")\n",
    "            else:\n",
    "                outfilenodes.write(\"id\\tgroup\\tvalue\\n\")\n",
    "                for node in self.parseddata[\"nodes\"]:\n",
    "                    outfilenodes.write(str(node[\"id\"]) + \"\\t\" + str(node[\"group\"]) + \"\\t\" + str(node[\"value\"]) + \"\\n\")\n",
    "\n",
    "datapath = \"Kookkurrenzprofil2.csv\"\n",
    "outpath = \"out\"\n",
    "root = None\n",
    "minllr = 1000\n",
    "intype = \"index\"\n",
    "outformat = \"json\"\n",
    "indexllr = 2\n",
    "indexwords = 7\n",
    "\n",
    "etl = coocETL(datapath, outpath, root, minllr, intype, outformat, indexllr, indexwords)\n",
    "etl.extract()\n",
    "etl.transform()\n",
    "etl.load()"
   ]
  },
  {
   "cell_type": "code",
   "execution_count": null,
   "metadata": {},
   "outputs": [],
   "source": []
  }
 ]
}
